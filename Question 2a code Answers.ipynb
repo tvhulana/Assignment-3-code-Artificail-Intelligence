{
 "cells": [
  {
   "cell_type": "markdown",
   "id": "a0e87d6d",
   "metadata": {},
   "source": [
    "Lowercasing & HTML removal\n",
    "\n",
    "Purpose: Normalize casing so \"Good\" and \"good\" are same token; remove HTML markup from scraped reviews."
   ]
  },
  {
   "cell_type": "code",
   "execution_count": 1,
   "id": "a51c19b8",
   "metadata": {},
   "outputs": [],
   "source": [
    "import re\n",
    "def clean_text_basic(text):\n",
    "    # remove HTML tags\n",
    "    text = re.sub(r'<[^>]+>', ' ', text)\n",
    "    # lowercasing\n",
    "    text = text.lower()\n",
    "    # collapse whitespace\n",
    "    text = re.sub(r'\\s+', ' ', text).strip()\n",
    "    return text\n"
   ]
  },
  {
   "cell_type": "markdown",
   "id": "acba1f28",
   "metadata": {},
   "source": [
    "2. Contraction expansion & punctuation removal\n",
    "\n",
    "Purpose: Expand \"don't\" -> \"do not\" so model sees negation explicitly; remove punctuation that adds noise (but keep sentiment punctuation like \"!\" optionally)."
   ]
  },
  {
   "cell_type": "code",
   "execution_count": null,
   "id": "9990d133",
   "metadata": {},
   "outputs": [],
   "source": [
    "contractions = {\"don't\":\"do not\", \"i'm\":\"i am\", \"it's\":\"it is\", \"can't\":\"cannot\"}\n",
    "import re\n",
    "def expand_contractions(text):\n",
    "    for c, expansion in contractions.items():\n",
    "        text = re.sub(r'\\b' + re.escape(c) + r'\\b', expansion, text)\n",
    "    # remove punctuation (keep spaces)\n",
    "    text = re.sub(r'[^\\w\\s]', ' ', text)\n",
    "    return re.sub(r'\\s+', ' ', text).strip()\n"
   ]
  },
  {
   "cell_type": "markdown",
   "id": "50274480",
   "metadata": {},
   "source": [
    "3. Tokenization + stopword removal\n",
    "\n",
    "Purpose: Convert text into tokens and remove high-frequency function words that add little sentiment information (e.g., \"the\", \"a\") while being careful not to remove negations like \"not\"."
   ]
  },
  {
   "cell_type": "code",
   "execution_count": null,
   "id": "42e49d77",
   "metadata": {},
   "outputs": [],
   "source": [
    "import nltk\n",
    "nltk.download('punkt')\n",
    "nltk.download('stopwords')\n",
    "from nltk.tokenize import word_tokenize\n",
    "from nltk.corpus import stopwords\n",
    "\n",
    "stop = set(stopwords.words('english')) - {\"not\", \"no\"}  # keep negations\n",
    "def tokenize_and_remove_stopwords(text):\n",
    "    tokens = word_tokenize(text)\n",
    "    tokens = [t for t in tokens if t not in stop]\n",
    "    return tokens\n"
   ]
  },
  {
   "cell_type": "markdown",
   "id": "32ab3830",
   "metadata": {},
   "source": [
    "4. Lemmatization (or stemming)\n",
    "\n",
    "Purpose: Reduce inflected forms to a common base (e.g., \"liked\", \"likes\" → \"like\") so model generalizes better over word forms. Lemmatization keeps words more readable than stemming."
   ]
  },
  {
   "cell_type": "code",
   "execution_count": null,
   "id": "b6f540b9",
   "metadata": {},
   "outputs": [],
   "source": [
    "import spacy\n",
    "nlp = spacy.load(\"en_core_web_sm\", disable=[\"parser\",\"ner\"])\n",
    "def lemmatize_tokens(tokens):\n",
    "    doc = nlp(\" \".join(tokens))\n",
    "    return [token.lemma_ for token in doc]\n"
   ]
  }
 ],
 "metadata": {
  "kernelspec": {
   "display_name": "base",
   "language": "python",
   "name": "python3"
  },
  "language_info": {
   "codemirror_mode": {
    "name": "ipython",
    "version": 3
   },
   "file_extension": ".py",
   "mimetype": "text/x-python",
   "name": "python",
   "nbconvert_exporter": "python",
   "pygments_lexer": "ipython3",
   "version": "3.13.5"
  }
 },
 "nbformat": 4,
 "nbformat_minor": 5
}
